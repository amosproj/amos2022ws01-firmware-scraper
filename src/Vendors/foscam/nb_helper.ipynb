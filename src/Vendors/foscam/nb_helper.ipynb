{
 "cells": [
  {
   "cell_type": "markdown",
   "metadata": {},
   "source": [
    "# v1"
   ]
  },
  {
   "cell_type": "code",
   "execution_count": 1,
   "metadata": {},
   "outputs": [],
   "source": [
    "# # Import packages\n",
    "\n",
    "from datetime import datetime\n",
    "from typing import Optional, Tuple, Union\n",
    "from urllib.request import urlopen\n",
    "\n",
    "from selenium import webdriver\n",
    "from selenium.webdriver.chrome.options import Options\n",
    "from selenium.webdriver.chrome.service import Service\n",
    "from selenium.webdriver.common.by import By\n",
    "from selenium.webdriver.common.keys import Keys\n",
    "from selenium.webdriver.support import expected_conditions as EC\n",
    "from selenium.webdriver.support.ui import Select, WebDriverWait\n",
    "from tqdm import tqdm\n",
    "from webdriver_manager.chrome import ChromeDriverManager\n",
    "\n",
    "from loguru import logger\n",
    "from bs4 import BeautifulSoup\n",
    "import time\n",
    "\n",
    "\n",
    "from src.Vendors.scraper import Scraper\n",
    "\n",
    "# # STATICS\n",
    "VENDOR_URL = 'https://www.foscam.com/downloads/index.html'\n",
    "DOWNLOAD_PATH = 'downloads/'\n",
    "\n",
    "# Selenium Webdriver Options, Download Path, Headless, Screensize, Webbrowser Version\n",
    "options = Options()\n",
    "options.headless = False\n",
    "\n",
    "options.add_experimental_option(\"prefs\", {\n",
    "    \"download.default_directory\": rf\"{DOWNLOAD_PATH}\"\n",
    "})\n",
    "\n",
    "user_agent = 'foscam Download Assistant/1.0'\n",
    "options.add_argument(f'user-agent={user_agent}')\n",
    "# # Initialize Chrome and open Vendor Website\n"
   ]
  },
  {
   "cell_type": "code",
   "execution_count": 22,
   "metadata": {},
   "outputs": [],
   "source": [
    "class FoscamScraper(Scraper):\n",
    "\n",
    "    def __init__(\n",
    "            self,\n",
    "            logger,\n",
    "            url: str = VENDOR_URL,\n",
    "            headless: bool = True,\n",
    "            options: Options = options,\n",
    "            max_products: int = float('inf')\n",
    "\n",
    "    ):\n",
    "        self.headless = headless\n",
    "        self.url = url\n",
    "        self.name = \"foscam\"\n",
    "        self.max_products = max_products\n",
    "        self.driver = webdriver.Chrome(service=Service(\n",
    "            ChromeDriverManager().install()), options=options)\n",
    "        self.driver.implicitly_wait(0.5)  # has to be set only once\n",
    "        self.logger = logger\n",
    "\n",
    "    def _open_website(self, url: str = '') -> None:\n",
    "        try:\n",
    "            if not url:\n",
    "                url = self.url\n",
    "            self.driver.get(url)\n",
    "            self.logger.debug(f'Opened foscam website {url}')\n",
    "        except Exception as e:\n",
    "            self.logger.error(f\"Could not open foscam website {url}!\")\n",
    "            self.logger.error(e)\n",
    "\n",
    "    def _close_website(self) -> None:\n",
    "        self.driver.close()\n",
    "        self.logger.debug('Closes Window')\n",
    "\n",
    "    def _get_current_displayed_product_list(self, html) -> list:\n",
    "        \"\"\"parses html and returns a list of tuples with product name and product url\n",
    "\n",
    "        Args:\n",
    "            html (_type_): html of current product list\n",
    "\n",
    "        Returns:\n",
    "            list: list of tuples with product name and product url\n",
    "        \"\"\"    \n",
    "        self.driver.implicitly_wait(1)\n",
    "        product_list = BeautifulSoup(html, 'html.parser').find_all('li')\n",
    "        products_tuple_list = []\n",
    "        for product in product_list:\n",
    "            # append product name and product url\n",
    "            products_tuple_list.append((product.find_all('a')[1].text, product.find_all('a')[1]['href']))\n",
    "        return products_tuple_list\n",
    "\n",
    "    def _next_page(self, counter:int=0) -> bool:\n",
    "        \"\"\"clicks next page button if it exists\n",
    "\n",
    "        Returns:\n",
    "            bool: True if next page exists and performs action, False if not\n",
    "        \"\"\"\n",
    "        self.driver.implicitly_wait(1)\n",
    "        #self.logger.debug(f'{counter = }')\n",
    "        if counter == 0:\n",
    "            # do nothing in first run\n",
    "            return True\n",
    "        if counter == 1:\n",
    "            SELECTOR_NEXT_PAGE = '/html/body/div[6]/div[4]/a'\n",
    "        else:\n",
    "            SELECTOR_NEXT_PAGE = '/html/body/div[6]/div[4]/a[2]'\n",
    "        try:\n",
    "            self.driver.find_element(\n",
    "                By.XPATH, value=SELECTOR_NEXT_PAGE).click()\n",
    "            self.driver.implicitly_wait(1)\n",
    "            return True\n",
    "        except Exception as e:\n",
    "            self.logger.debug('No next page')\n",
    "            self.logger.debug(f'Found {counter=} pages')\n",
    "            return False\n",
    "\n",
    "    \n",
    "    def _create_product_catalog(self) -> list:\n",
    "        \"\"\"clicks once through all product lines and products and saves them in a dict\n",
    "\n",
    "        Returns:\n",
    "            dict: product catalog\n",
    "        \"\"\"\n",
    "        SELECTOR_PRODUCTS = '/html/body/div[6]/div[3]' # product caroussel \n",
    "        self.driver.implicitly_wait(1)\n",
    "        self.logger.debug(f'get html of product caroussel')\n",
    "        counter=0\n",
    "        products_list = []\n",
    "        self.logger.debug(f'Iterare over pages to create product catalog')\n",
    "        while self._next_page(counter):\n",
    "            counter+=1\n",
    "            time.sleep(2)\n",
    "            a = self.driver.find_element(By.XPATH, value=SELECTOR_PRODUCTS).get_attribute('innerHTML')\n",
    "            products_list.append(self._get_current_displayed_product_list(a))\n",
    "            \n",
    "        # flat python list\n",
    "        products_list = [item for sublist in products_list for item in sublist]\n",
    "        self.products_list = products_list\n",
    "\n",
    "    def _find_metadata_table(self, product_url: str):\n",
    "        \"\"\"scrapes product page and returns a dict with product name, product url, product line, product line url, release note url, release note text, checksum\n",
    "\n",
    "        Args:\n",
    "            product_url (str): url of product page\n",
    "        \"\"\"\n",
    "\n",
    "        SELECTOR_METADATA_TABLE = '//*[@id=\"val\"]/div/table'\n",
    "        self.driver.implicitly_wait(1)\n",
    "        try:\n",
    "            product_metadata = self.driver.find_element(\n",
    "                By.XPATH, value=SELECTOR_METADATA_TABLE).get_attribute('innerHTML')\n",
    "            self.driver.implicitly_wait(1)\n",
    "            return product_metadata\n",
    "        except Exception as e:\n",
    "            self.logger.debug('No metadata table, skip product')\n",
    "\n",
    "    def _convert_date(self, date_str: str):\n",
    "        try:\n",
    "            return datetime.strptime(date_str, \"%Y/%m/%d\").strftime(\"%Y-%m-%d\")\n",
    "        except Exception as ex:\n",
    "            self.logger.error(f'Could not convert date {date_str}')\n",
    "            self.logger.error(ex)\n",
    "            return None\n",
    "\n",
    "    def scrape_metadata(self):\n",
    "        \"\"\"scrapes metadata from foscam website\n",
    "\n",
    "        Returns:\n",
    "            list[dict]: list of dicts with metadata\n",
    "        \"\"\"\n",
    "        self._open_website()\n",
    "        self._create_product_catalog()\n",
    "        \n",
    "        metadata = []\n",
    "        self.logger.debug(f'Iterate over product catalog and scrape metadata')\n",
    "        for product, product_url in self.products_list:\n",
    "            if len(metadata) > self.max_products:\n",
    "                    break\n",
    "            try:\n",
    "                self._open_website(f'https://www.foscam.com{product_url}')\n",
    "                metadata_html = self._find_metadata_table(product_url)\n",
    "                fw_releases_list = BeautifulSoup(metadata_html, 'html.parser').find_all('tr')\n",
    "                for fw_release in fw_releases_list[1:]:\n",
    "                    metadata_current = fw_release.find_all('td')\n",
    "                    tmp_metadata_dict = {'manufacturer': 'foscam',\n",
    "                                                    'version': metadata_current[0].text,\n",
    "                                                    'product_type': None, #  not available\n",
    "                                                    'product_name': product,\n",
    "                                                    'url': f'https://www.foscam.com{product_url}',\n",
    "                                                    'checksum_scraped': None, # not available\n",
    "                                                    'download_link': f\"https://www.foscam.com{metadata_current[-1].find_all('a')[0]['href']}\",\n",
    "                                                    'release_date': self._convert_date(metadata_current[1].text),\n",
    "                                                    \"additional_data\": {} # nothing valuable\n",
    "                                                    }\n",
    "                                                    \n",
    "                    metadata.append(tmp_metadata_dict)\n",
    "                print(f'Finished scraping {product=}, {product_url=}')\n",
    "            except Exception as ex:\n",
    "                print('{product}, {product_url} is missing crucial data')\n",
    "                print(ex)\n",
    "                pass\n",
    "            time.sleep(1)\n",
    "        self.driver.quit()\n",
    "        return metadata\n",
    "\n",
    "    "
   ]
  },
  {
   "cell_type": "code",
   "execution_count": 24,
   "metadata": {},
   "outputs": [
    {
     "name": "stderr",
     "output_type": "stream",
     "text": [
      "2022-12-11 19:52:11.767 | DEBUG    | __main__:<module>:4 - Start foscam\n",
      "2022-12-11 19:53:52.104 | DEBUG    | __main__:_open_website:26 - Opened foscam website https://www.foscam.com/downloads/index.html\n",
      "2022-12-11 19:53:52.108 | DEBUG    | __main__:_create_product_catalog:86 - get html of product caroussel\n",
      "2022-12-11 19:53:52.109 | DEBUG    | __main__:_create_product_catalog:89 - Iterare over pages to create product catalog\n",
      "2022-12-11 19:54:07.727 | DEBUG    | __main__:_next_page:73 - No next page\n",
      "2022-12-11 19:54:07.728 | DEBUG    | __main__:_next_page:74 - Found counter=7 pages\n",
      "2022-12-11 19:54:07.729 | DEBUG    | __main__:scrape_metadata:136 - Iterate over product catalog and scrape metadata\n",
      "2022-12-11 19:54:08.324 | DEBUG    | __main__:_open_website:26 - Opened foscam website https://www.foscam.com/downloads/firmware_details.html?id=161\n"
     ]
    },
    {
     "name": "stdout",
     "output_type": "stream",
     "text": [
      "2021/12/08\n",
      "2022/10/26\n",
      "Finished scraping product='VD1/DBW5', product_url='/downloads/firmware_details.html?id=161'\n"
     ]
    },
    {
     "name": "stderr",
     "output_type": "stream",
     "text": [
      "2022-12-11 19:54:09.791 | DEBUG    | __main__:_open_website:26 - Opened foscam website https://www.foscam.com/downloads/firmware_details.html?id=163\n"
     ]
    },
    {
     "name": "stdout",
     "output_type": "stream",
     "text": [
      "2021/12/08\n",
      "2022/10/26\n",
      "Finished scraping product='F41/FLC', product_url='/downloads/firmware_details.html?id=163'\n"
     ]
    },
    {
     "name": "stderr",
     "output_type": "stream",
     "text": [
      "2022-12-11 19:54:11.231 | DEBUG    | __main__:_open_website:26 - Opened foscam website https://www.foscam.com/downloads/firmware_details.html?id=162\n"
     ]
    },
    {
     "name": "stdout",
     "output_type": "stream",
     "text": [
      "2021/12/08\n",
      "2022/10/26\n",
      "Finished scraping product='S41/SPC', product_url='/downloads/firmware_details.html?id=162'\n"
     ]
    },
    {
     "name": "stderr",
     "output_type": "stream",
     "text": [
      "2022-12-11 19:54:12.658 | DEBUG    | __main__:_open_website:26 - Opened foscam website https://www.foscam.com/downloads/firmware_details.html?id=148\n"
     ]
    },
    {
     "name": "stdout",
     "output_type": "stream",
     "text": [
      "2021/5/10\n",
      "Finished scraping product='C2M/C2M V2/C2M V3', product_url='/downloads/firmware_details.html?id=148'\n"
     ]
    },
    {
     "name": "stderr",
     "output_type": "stream",
     "text": [
      "2022-12-11 19:54:14.074 | DEBUG    | __main__:_open_website:26 - Opened foscam website https://www.foscam.com/downloads/firmware_details.html?id=134\n"
     ]
    },
    {
     "name": "stdout",
     "output_type": "stream",
     "text": [
      "2022/3/30\n",
      "2022/05/26\n",
      "Finished scraping product='R2M', product_url='/downloads/firmware_details.html?id=134'\n"
     ]
    },
    {
     "name": "stderr",
     "output_type": "stream",
     "text": [
      "2022-12-11 19:54:15.482 | DEBUG    | __main__:_open_website:26 - Opened foscam website https://www.foscam.com/downloads/firmware_details.html?id=143\n"
     ]
    },
    {
     "name": "stdout",
     "output_type": "stream",
     "text": [
      "2022/4/25\n",
      "2022/05/26\n",
      "Finished scraping product='R4M', product_url='/downloads/firmware_details.html?id=143'\n"
     ]
    },
    {
     "name": "stderr",
     "output_type": "stream",
     "text": [
      "2022-12-11 19:54:16.942 | DEBUG    | __main__:_open_website:26 - Opened foscam website https://www.foscam.com/downloads/firmware_details.html?id=135\n"
     ]
    },
    {
     "name": "stdout",
     "output_type": "stream",
     "text": [
      "2022/4/28\n",
      "Finished scraping product='FI9926P', product_url='/downloads/firmware_details.html?id=135'\n"
     ]
    },
    {
     "name": "stderr",
     "output_type": "stream",
     "text": [
      "2022-12-11 19:54:18.348 | DEBUG    | __main__:_open_website:26 - Opened foscam website https://www.foscam.com/downloads/firmware_details.html?id=132\n"
     ]
    },
    {
     "name": "stdout",
     "output_type": "stream",
     "text": [
      "2022/3/30\n",
      "2022/05/26\n",
      "Finished scraping product='FI9902P', product_url='/downloads/firmware_details.html?id=132'\n"
     ]
    },
    {
     "name": "stderr",
     "output_type": "stream",
     "text": [
      "2022-12-11 19:54:19.745 | DEBUG    | __main__:_open_website:26 - Opened foscam website https://www.foscam.com/downloads/firmware_details.html?id=137\n"
     ]
    },
    {
     "name": "stdout",
     "output_type": "stream",
     "text": [
      "2022/4/25\n",
      "2022/05/26\n",
      "Finished scraping product='G4', product_url='/downloads/firmware_details.html?id=137'\n"
     ]
    },
    {
     "name": "stderr",
     "output_type": "stream",
     "text": [
      "2022-12-11 19:54:21.248 | DEBUG    | __main__:_open_website:26 - Opened foscam website https://www.foscam.com/downloads/firmware_details.html?id=144\n"
     ]
    },
    {
     "name": "stdout",
     "output_type": "stream",
     "text": [
      "2022/4/25\n",
      "2022/05/26\n",
      "Finished scraping product='G4P', product_url='/downloads/firmware_details.html?id=144'\n"
     ]
    },
    {
     "name": "stderr",
     "output_type": "stream",
     "text": [
      "2022-12-11 19:54:23.747 | DEBUG    | __main__:_open_website:26 - Opened foscam website https://www.foscam.com/downloads/firmware_details.html?id=142\n"
     ]
    },
    {
     "name": "stdout",
     "output_type": "stream",
     "text": [
      "2022/4/25\n",
      "2022/05/26\n",
      "Finished scraping product='G4EP', product_url='/downloads/firmware_details.html?id=142'\n"
     ]
    },
    {
     "name": "stderr",
     "output_type": "stream",
     "text": [
      "2022-12-11 19:54:25.458 | DEBUG    | __main__:_open_website:26 - Opened foscam website https://www.foscam.com/downloads/firmware_details.html?id=156\n"
     ]
    },
    {
     "name": "stdout",
     "output_type": "stream",
     "text": [
      "2022/4/25\n",
      "2022/05/26\n",
      "Finished scraping product='D4Z/VZ4', product_url='/downloads/firmware_details.html?id=156'\n"
     ]
    },
    {
     "name": "stderr",
     "output_type": "stream",
     "text": [
      "2022-12-11 19:54:27.123 | DEBUG    | __main__:_open_website:26 - Opened foscam website https://www.foscam.com/downloads/firmware_details.html?id=154\n"
     ]
    },
    {
     "name": "stdout",
     "output_type": "stream",
     "text": [
      "2022/4/25\n",
      "2022/05/26\n",
      "Finished scraping product='SD2X', product_url='/downloads/firmware_details.html?id=154'\n"
     ]
    },
    {
     "name": "stderr",
     "output_type": "stream",
     "text": [
      "2022-12-11 19:54:28.737 | DEBUG    | __main__:_open_website:26 - Opened foscam website https://www.foscam.com/downloads/firmware_details.html?id=155\n"
     ]
    },
    {
     "name": "stdout",
     "output_type": "stream",
     "text": [
      "2022/04/25\n",
      "2022/05/26\n",
      "Finished scraping product='SD2/HT2', product_url='/downloads/firmware_details.html?id=155'\n"
     ]
    },
    {
     "name": "stderr",
     "output_type": "stream",
     "text": [
      "2022-12-11 19:54:30.138 | DEBUG    | __main__:_open_website:26 - Opened foscam website https://www.foscam.com/downloads/firmware_details.html?id=62\n"
     ]
    },
    {
     "name": "stdout",
     "output_type": "stream",
     "text": [
      "2022/4/28\n",
      "Finished scraping product='FI9928P', product_url='/downloads/firmware_details.html?id=62'\n"
     ]
    },
    {
     "name": "stderr",
     "output_type": "stream",
     "text": [
      "2022-12-11 19:54:31.544 | DEBUG    | __main__:_open_website:26 - Opened foscam website https://www.foscam.com/downloads/firmware_details.html?id=141\n"
     ]
    },
    {
     "name": "stdout",
     "output_type": "stream",
     "text": [
      "2022/3/30\n",
      "2022/05/26\n",
      "Finished scraping product='G2EP', product_url='/downloads/firmware_details.html?id=141'\n"
     ]
    },
    {
     "name": "stderr",
     "output_type": "stream",
     "text": [
      "2022-12-11 19:54:32.986 | DEBUG    | __main__:_open_website:26 - Opened foscam website https://www.foscam.com/downloads/firmware_details.html?id=151\n"
     ]
    },
    {
     "name": "stdout",
     "output_type": "stream",
     "text": [
      "2022/3/30\n",
      "2022/05/26\n",
      "Finished scraping product='D2EP', product_url='/downloads/firmware_details.html?id=151'\n"
     ]
    },
    {
     "name": "stderr",
     "output_type": "stream",
     "text": [
      "2022-12-11 19:54:34.430 | DEBUG    | __main__:_open_website:26 - Opened foscam website https://www.foscam.com/downloads/firmware_details.html?id=159\n"
     ]
    },
    {
     "name": "stdout",
     "output_type": "stream",
     "text": [
      "2022/09/23\n",
      "Finished scraping product='FN7108W-B4', product_url='/downloads/firmware_details.html?id=159'\n"
     ]
    },
    {
     "name": "stderr",
     "output_type": "stream",
     "text": [
      "2022-12-11 19:54:35.861 | DEBUG    | __main__:_open_website:26 - Opened foscam website https://www.foscam.com/downloads/firmware_details.html?id=43\n"
     ]
    },
    {
     "name": "stdout",
     "output_type": "stream",
     "text": [
      "2019/07/25\n",
      "2018/11/20\n",
      "2018/5/17\n",
      "2018/5/17\n",
      "2017/07/07\n",
      "2015/03/16\n",
      "2014/12/22\n",
      "2014/05/16\n",
      "2014/04/08\n",
      "2014/02/19\n",
      "2013/11/13\n",
      "2013/08/22\n",
      "Finished scraping product='FI9821W V2', product_url='/downloads/firmware_details.html?id=43'\n"
     ]
    },
    {
     "name": "stderr",
     "output_type": "stream",
     "text": [
      "2022-12-11 19:54:37.251 | DEBUG    | __main__:_open_website:26 - Opened foscam website https://www.foscam.com/downloads/firmware_details.html?id=1\n"
     ]
    },
    {
     "name": "stdout",
     "output_type": "stream",
     "text": [
      "2018/10/16\n",
      "Finished scraping product='C1/C1 V2', product_url='/downloads/firmware_details.html?id=1'\n"
     ]
    },
    {
     "name": "stderr",
     "output_type": "stream",
     "text": [
      "2022-12-11 19:54:38.655 | DEBUG    | __main__:_open_website:26 - Opened foscam website https://www.foscam.com/downloads/firmware_details.html?id=2\n"
     ]
    },
    {
     "name": "stdout",
     "output_type": "stream",
     "text": [
      "2018/10/16\n",
      "Finished scraping product='C1 Lite/C1 Lite V2', product_url='/downloads/firmware_details.html?id=2'\n"
     ]
    },
    {
     "name": "stderr",
     "output_type": "stream",
     "text": [
      "2022-12-11 19:54:40.120 | DEBUG    | __main__:_open_website:26 - Opened foscam website https://www.foscam.com/downloads/firmware_details.html?id=3\n"
     ]
    },
    {
     "name": "stdout",
     "output_type": "stream",
     "text": [
      "2022/4/28\n",
      "Finished scraping product='FI9900P', product_url='/downloads/firmware_details.html?id=3'\n"
     ]
    },
    {
     "name": "stderr",
     "output_type": "stream",
     "text": [
      "2022-12-11 19:54:41.542 | DEBUG    | __main__:_open_website:26 - Opened foscam website https://www.foscam.com/downloads/firmware_details.html?id=4\n"
     ]
    },
    {
     "name": "stdout",
     "output_type": "stream",
     "text": [
      "2022/4/28\n",
      "Finished scraping product='FI9961EP', product_url='/downloads/firmware_details.html?id=4'\n"
     ]
    },
    {
     "name": "stderr",
     "output_type": "stream",
     "text": [
      "2022-12-11 19:54:42.956 | DEBUG    | __main__:_open_website:26 - Opened foscam website https://www.foscam.com/downloads/firmware_details.html?id=5\n",
      "2022-12-11 19:54:42.998 | ERROR    | __main__:_convert_date:122 - Could not convert date 2014/01/02 \n",
      "2022-12-11 19:54:42.999 | ERROR    | __main__:_convert_date:123 - unconverted data remains:  \n"
     ]
    },
    {
     "name": "stdout",
     "output_type": "stream",
     "text": [
      "2019/07/25\n",
      "2018/11/20\n",
      "2018/5/17\n",
      "2018/5/17\n",
      "2017/07/07\n",
      "2015/03/16\n",
      "2014/12/22\n",
      "2014/05/16\n",
      "2014/04/10\n",
      "2014/02/13\n",
      "2014/01/02 \n",
      "2013/09/22\n",
      "Finished scraping product='FI9821P', product_url='/downloads/firmware_details.html?id=5'\n"
     ]
    },
    {
     "name": "stderr",
     "output_type": "stream",
     "text": [
      "2022-12-11 19:54:44.394 | DEBUG    | __main__:_open_website:26 - Opened foscam website https://www.foscam.com/downloads/firmware_details.html?id=6\n"
     ]
    },
    {
     "name": "stdout",
     "output_type": "stream",
     "text": [
      "2019/07/25\n",
      "2018/11/20\n",
      "2018/5/17\n",
      "2018/5/17\n",
      "2017/07/07\n",
      "2015/03/16\n",
      "2014/12/22\n",
      "2014/08/05\n",
      "Finished scraping product='FI9831P', product_url='/downloads/firmware_details.html?id=6'\n"
     ]
    },
    {
     "name": "stderr",
     "output_type": "stream",
     "text": [
      "2022-12-11 19:54:45.810 | DEBUG    | __main__:_open_website:26 - Opened foscam website https://www.foscam.com/downloads/firmware_details.html?id=7\n",
      "2022-12-11 19:54:45.845 | ERROR    | __main__:_convert_date:122 - Could not convert date 2014/05/16 \n",
      "2022-12-11 19:54:45.846 | ERROR    | __main__:_convert_date:123 - unconverted data remains:  \n"
     ]
    },
    {
     "name": "stdout",
     "output_type": "stream",
     "text": [
      "2019/07/25\n",
      "2018/11/20\n",
      "2018/5/17\n",
      "2018/5/17\n",
      "2017/07/07\n",
      "2015/03/16\n",
      "2014/12/22\n",
      "2014/05/16 \n",
      "2014/04/10\n",
      "Finished scraping product='FI9826P', product_url='/downloads/firmware_details.html?id=7'\n"
     ]
    },
    {
     "name": "stderr",
     "output_type": "stream",
     "text": [
      "2022-12-11 19:54:47.291 | DEBUG    | __main__:_open_website:26 - Opened foscam website https://www.foscam.com/downloads/firmware_details.html?id=8\n"
     ]
    },
    {
     "name": "stdout",
     "output_type": "stream",
     "text": [
      "2018/10/16\n",
      "Finished scraping product='FI9816P/FI9816P V2', product_url='/downloads/firmware_details.html?id=8'\n"
     ]
    },
    {
     "name": "stderr",
     "output_type": "stream",
     "text": [
      "2022-12-11 19:54:48.740 | DEBUG    | __main__:_open_website:26 - Opened foscam website https://www.foscam.com/downloads/firmware_details.html?id=11\n"
     ]
    },
    {
     "name": "stdout",
     "output_type": "stream",
     "text": [
      "2022/4/28\n",
      "Finished scraping product='C2', product_url='/downloads/firmware_details.html?id=11'\n"
     ]
    },
    {
     "name": "stderr",
     "output_type": "stream",
     "text": [
      "2022-12-11 19:54:50.191 | DEBUG    | __main__:_open_website:26 - Opened foscam website https://www.foscam.com/downloads/firmware_details.html?id=12\n"
     ]
    },
    {
     "name": "stdout",
     "output_type": "stream",
     "text": [
      "2019/07/25\n",
      "2018/11/19\n",
      "2018/5/11\n",
      "2017/6/14\n",
      "Finished scraping product='FI9821EP', product_url='/downloads/firmware_details.html?id=12'\n"
     ]
    },
    {
     "name": "stderr",
     "output_type": "stream",
     "text": [
      "2022-12-11 19:54:51.688 | DEBUG    | __main__:_open_website:26 - Opened foscam website https://www.foscam.com/downloads/firmware_details.html?id=13\n"
     ]
    },
    {
     "name": "stdout",
     "output_type": "stream",
     "text": [
      "2018/5/11\n",
      "2016/05/26\n",
      "Finished scraping product='FosBaby', product_url='/downloads/firmware_details.html?id=13'\n"
     ]
    },
    {
     "name": "stderr",
     "output_type": "stream",
     "text": [
      "2022-12-11 19:54:53.132 | DEBUG    | __main__:_open_website:26 - Opened foscam website https://www.foscam.com/downloads/firmware_details.html?id=14\n"
     ]
    },
    {
     "name": "stdout",
     "output_type": "stream",
     "text": [
      "2018/5/11\n",
      "2016/05/26\n",
      "Finished scraping product='FosBaby P1', product_url='/downloads/firmware_details.html?id=14'\n"
     ]
    },
    {
     "name": "stderr",
     "output_type": "stream",
     "text": [
      "2022-12-11 19:54:54.534 | DEBUG    | __main__:_open_website:26 - Opened foscam website https://www.foscam.com/downloads/firmware_details.html?id=15\n"
     ]
    },
    {
     "name": "stdout",
     "output_type": "stream",
     "text": [
      "2022/4/28\n",
      "Finished scraping product='R4', product_url='/downloads/firmware_details.html?id=15'\n"
     ]
    },
    {
     "name": "stderr",
     "output_type": "stream",
     "text": [
      "2022-12-11 19:54:55.997 | DEBUG    | __main__:_open_website:26 - Opened foscam website https://www.foscam.com/downloads/firmware_details.html?id=16\n"
     ]
    },
    {
     "name": "stdout",
     "output_type": "stream",
     "text": [
      "2019/07/25\n",
      "2018/11/19\n",
      "2018/5/11\n",
      "2017/6/14\n",
      "Finished scraping product='FI9803EP', product_url='/downloads/firmware_details.html?id=16'\n"
     ]
    },
    {
     "name": "stderr",
     "output_type": "stream",
     "text": [
      "2022-12-11 19:54:57.416 | DEBUG    | __main__:_open_website:26 - Opened foscam website https://www.foscam.com/downloads/firmware_details.html?id=120\n"
     ]
    },
    {
     "name": "stdout",
     "output_type": "stream",
     "text": [
      "2017/08/30\n",
      "Finished scraping product='FI9800E', product_url='/downloads/firmware_details.html?id=120'\n"
     ]
    },
    {
     "ename": "KeyboardInterrupt",
     "evalue": "",
     "output_type": "error",
     "traceback": [
      "\u001b[0;31m---------------------------------------------------------------------------\u001b[0m",
      "\u001b[0;31mKeyboardInterrupt\u001b[0m                         Traceback (most recent call last)",
      "Cell \u001b[0;32mIn [24], line 6\u001b[0m\n\u001b[1;32m      4\u001b[0m logger\u001b[39m.\u001b[39mdebug(\u001b[39m'\u001b[39m\u001b[39mStart foscam\u001b[39m\u001b[39m'\u001b[39m)\n\u001b[1;32m      5\u001b[0m foscam \u001b[39m=\u001b[39m FoscamScraper(logger)\n\u001b[0;32m----> 6\u001b[0m metadata \u001b[39m=\u001b[39m foscam\u001b[39m.\u001b[39;49mscrape_metadata()\n\u001b[1;32m      8\u001b[0m \u001b[39m# save metadata to json file\u001b[39;00m\n\u001b[1;32m      9\u001b[0m \u001b[39mwith\u001b[39;00m \u001b[39mopen\u001b[39m(\u001b[39m\"\u001b[39m\u001b[39mscraped_metadata/firmware_data_foscam.json\u001b[39m\u001b[39m\"\u001b[39m, \u001b[39m\"\u001b[39m\u001b[39mw\u001b[39m\u001b[39m\"\u001b[39m) \u001b[39mas\u001b[39;00m firmware_file:\n",
      "Cell \u001b[0;32mIn [22], line 141\u001b[0m, in \u001b[0;36mFoscamScraper.scrape_metadata\u001b[0;34m(self)\u001b[0m\n\u001b[1;32m    139\u001b[0m         \u001b[39mbreak\u001b[39;00m\n\u001b[1;32m    140\u001b[0m \u001b[39mtry\u001b[39;00m:\n\u001b[0;32m--> 141\u001b[0m     \u001b[39mself\u001b[39;49m\u001b[39m.\u001b[39;49m_open_website(\u001b[39mf\u001b[39;49m\u001b[39m'\u001b[39;49m\u001b[39mhttps://www.foscam.com\u001b[39;49m\u001b[39m{\u001b[39;49;00mproduct_url\u001b[39m}\u001b[39;49;00m\u001b[39m'\u001b[39;49m)\n\u001b[1;32m    142\u001b[0m     metadata_html \u001b[39m=\u001b[39m \u001b[39mself\u001b[39m\u001b[39m.\u001b[39m_find_metadata_table(product_url)\n\u001b[1;32m    143\u001b[0m     fw_releases_list \u001b[39m=\u001b[39m BeautifulSoup(metadata_html, \u001b[39m'\u001b[39m\u001b[39mhtml.parser\u001b[39m\u001b[39m'\u001b[39m)\u001b[39m.\u001b[39mfind_all(\u001b[39m'\u001b[39m\u001b[39mtr\u001b[39m\u001b[39m'\u001b[39m)\n",
      "Cell \u001b[0;32mIn [22], line 25\u001b[0m, in \u001b[0;36mFoscamScraper._open_website\u001b[0;34m(self, url)\u001b[0m\n\u001b[1;32m     23\u001b[0m     \u001b[39mif\u001b[39;00m \u001b[39mnot\u001b[39;00m url:\n\u001b[1;32m     24\u001b[0m         url \u001b[39m=\u001b[39m \u001b[39mself\u001b[39m\u001b[39m.\u001b[39murl\n\u001b[0;32m---> 25\u001b[0m     \u001b[39mself\u001b[39;49m\u001b[39m.\u001b[39;49mdriver\u001b[39m.\u001b[39;49mget(url)\n\u001b[1;32m     26\u001b[0m     \u001b[39mself\u001b[39m\u001b[39m.\u001b[39mlogger\u001b[39m.\u001b[39mdebug(\u001b[39mf\u001b[39m\u001b[39m'\u001b[39m\u001b[39mOpened foscam website \u001b[39m\u001b[39m{\u001b[39;00murl\u001b[39m}\u001b[39;00m\u001b[39m'\u001b[39m)\n\u001b[1;32m     27\u001b[0m \u001b[39mexcept\u001b[39;00m \u001b[39mException\u001b[39;00m \u001b[39mas\u001b[39;00m e:\n",
      "File \u001b[0;32m/usr/local/lib/python3.10/site-packages/selenium/webdriver/remote/webdriver.py:455\u001b[0m, in \u001b[0;36mWebDriver.get\u001b[0;34m(self, url)\u001b[0m\n\u001b[1;32m    451\u001b[0m \u001b[39mdef\u001b[39;00m \u001b[39mget\u001b[39m(\u001b[39mself\u001b[39m, url: \u001b[39mstr\u001b[39m) \u001b[39m-\u001b[39m\u001b[39m>\u001b[39m \u001b[39mNone\u001b[39;00m:\n\u001b[1;32m    452\u001b[0m     \u001b[39m\"\"\"\u001b[39;00m\n\u001b[1;32m    453\u001b[0m \u001b[39m    Loads a web page in the current browser session.\u001b[39;00m\n\u001b[1;32m    454\u001b[0m \u001b[39m    \"\"\"\u001b[39;00m\n\u001b[0;32m--> 455\u001b[0m     \u001b[39mself\u001b[39;49m\u001b[39m.\u001b[39;49mexecute(Command\u001b[39m.\u001b[39;49mGET, {\u001b[39m\"\u001b[39;49m\u001b[39murl\u001b[39;49m\u001b[39m\"\u001b[39;49m: url})\n",
      "File \u001b[0;32m/usr/local/lib/python3.10/site-packages/selenium/webdriver/remote/webdriver.py:442\u001b[0m, in \u001b[0;36mWebDriver.execute\u001b[0;34m(self, driver_command, params)\u001b[0m\n\u001b[1;32m    439\u001b[0m     \u001b[39melif\u001b[39;00m \u001b[39m\"\u001b[39m\u001b[39msessionId\u001b[39m\u001b[39m\"\u001b[39m \u001b[39mnot\u001b[39;00m \u001b[39min\u001b[39;00m params:\n\u001b[1;32m    440\u001b[0m         params[\u001b[39m\"\u001b[39m\u001b[39msessionId\u001b[39m\u001b[39m\"\u001b[39m] \u001b[39m=\u001b[39m \u001b[39mself\u001b[39m\u001b[39m.\u001b[39msession_id\n\u001b[0;32m--> 442\u001b[0m response \u001b[39m=\u001b[39m \u001b[39mself\u001b[39;49m\u001b[39m.\u001b[39;49mcommand_executor\u001b[39m.\u001b[39;49mexecute(driver_command, params)\n\u001b[1;32m    443\u001b[0m \u001b[39mif\u001b[39;00m response:\n\u001b[1;32m    444\u001b[0m     \u001b[39mself\u001b[39m\u001b[39m.\u001b[39merror_handler\u001b[39m.\u001b[39mcheck_response(response)\n",
      "File \u001b[0;32m/usr/local/lib/python3.10/site-packages/selenium/webdriver/remote/remote_connection.py:294\u001b[0m, in \u001b[0;36mRemoteConnection.execute\u001b[0;34m(self, command, params)\u001b[0m\n\u001b[1;32m    292\u001b[0m data \u001b[39m=\u001b[39m utils\u001b[39m.\u001b[39mdump_json(params)\n\u001b[1;32m    293\u001b[0m url \u001b[39m=\u001b[39m \u001b[39mf\u001b[39m\u001b[39m\"\u001b[39m\u001b[39m{\u001b[39;00m\u001b[39mself\u001b[39m\u001b[39m.\u001b[39m_url\u001b[39m}\u001b[39;00m\u001b[39m{\u001b[39;00mpath\u001b[39m}\u001b[39;00m\u001b[39m\"\u001b[39m\n\u001b[0;32m--> 294\u001b[0m \u001b[39mreturn\u001b[39;00m \u001b[39mself\u001b[39;49m\u001b[39m.\u001b[39;49m_request(command_info[\u001b[39m0\u001b[39;49m], url, body\u001b[39m=\u001b[39;49mdata)\n",
      "File \u001b[0;32m/usr/local/lib/python3.10/site-packages/selenium/webdriver/remote/remote_connection.py:316\u001b[0m, in \u001b[0;36mRemoteConnection._request\u001b[0;34m(self, method, url, body)\u001b[0m\n\u001b[1;32m    313\u001b[0m     body \u001b[39m=\u001b[39m \u001b[39mNone\u001b[39;00m\n\u001b[1;32m    315\u001b[0m \u001b[39mif\u001b[39;00m \u001b[39mself\u001b[39m\u001b[39m.\u001b[39mkeep_alive:\n\u001b[0;32m--> 316\u001b[0m     response \u001b[39m=\u001b[39m \u001b[39mself\u001b[39;49m\u001b[39m.\u001b[39;49m_conn\u001b[39m.\u001b[39;49mrequest(method, url, body\u001b[39m=\u001b[39;49mbody, headers\u001b[39m=\u001b[39;49mheaders)\n\u001b[1;32m    317\u001b[0m     statuscode \u001b[39m=\u001b[39m response\u001b[39m.\u001b[39mstatus\n\u001b[1;32m    318\u001b[0m \u001b[39melse\u001b[39;00m:\n",
      "File \u001b[0;32m/usr/local/lib/python3.10/site-packages/urllib3/request.py:78\u001b[0m, in \u001b[0;36mRequestMethods.request\u001b[0;34m(self, method, url, fields, headers, **urlopen_kw)\u001b[0m\n\u001b[1;32m     74\u001b[0m     \u001b[39mreturn\u001b[39;00m \u001b[39mself\u001b[39m\u001b[39m.\u001b[39mrequest_encode_url(\n\u001b[1;32m     75\u001b[0m         method, url, fields\u001b[39m=\u001b[39mfields, headers\u001b[39m=\u001b[39mheaders, \u001b[39m*\u001b[39m\u001b[39m*\u001b[39murlopen_kw\n\u001b[1;32m     76\u001b[0m     )\n\u001b[1;32m     77\u001b[0m \u001b[39melse\u001b[39;00m:\n\u001b[0;32m---> 78\u001b[0m     \u001b[39mreturn\u001b[39;00m \u001b[39mself\u001b[39;49m\u001b[39m.\u001b[39;49mrequest_encode_body(\n\u001b[1;32m     79\u001b[0m         method, url, fields\u001b[39m=\u001b[39;49mfields, headers\u001b[39m=\u001b[39;49mheaders, \u001b[39m*\u001b[39;49m\u001b[39m*\u001b[39;49murlopen_kw\n\u001b[1;32m     80\u001b[0m     )\n",
      "File \u001b[0;32m/usr/local/lib/python3.10/site-packages/urllib3/request.py:170\u001b[0m, in \u001b[0;36mRequestMethods.request_encode_body\u001b[0;34m(self, method, url, fields, headers, encode_multipart, multipart_boundary, **urlopen_kw)\u001b[0m\n\u001b[1;32m    167\u001b[0m extra_kw[\u001b[39m\"\u001b[39m\u001b[39mheaders\u001b[39m\u001b[39m\"\u001b[39m]\u001b[39m.\u001b[39mupdate(headers)\n\u001b[1;32m    168\u001b[0m extra_kw\u001b[39m.\u001b[39mupdate(urlopen_kw)\n\u001b[0;32m--> 170\u001b[0m \u001b[39mreturn\u001b[39;00m \u001b[39mself\u001b[39;49m\u001b[39m.\u001b[39;49murlopen(method, url, \u001b[39m*\u001b[39;49m\u001b[39m*\u001b[39;49mextra_kw)\n",
      "File \u001b[0;32m/usr/local/lib/python3.10/site-packages/urllib3/poolmanager.py:376\u001b[0m, in \u001b[0;36mPoolManager.urlopen\u001b[0;34m(self, method, url, redirect, **kw)\u001b[0m\n\u001b[1;32m    374\u001b[0m     response \u001b[39m=\u001b[39m conn\u001b[39m.\u001b[39murlopen(method, url, \u001b[39m*\u001b[39m\u001b[39m*\u001b[39mkw)\n\u001b[1;32m    375\u001b[0m \u001b[39melse\u001b[39;00m:\n\u001b[0;32m--> 376\u001b[0m     response \u001b[39m=\u001b[39m conn\u001b[39m.\u001b[39;49murlopen(method, u\u001b[39m.\u001b[39;49mrequest_uri, \u001b[39m*\u001b[39;49m\u001b[39m*\u001b[39;49mkw)\n\u001b[1;32m    378\u001b[0m redirect_location \u001b[39m=\u001b[39m redirect \u001b[39mand\u001b[39;00m response\u001b[39m.\u001b[39mget_redirect_location()\n\u001b[1;32m    379\u001b[0m \u001b[39mif\u001b[39;00m \u001b[39mnot\u001b[39;00m redirect_location:\n",
      "File \u001b[0;32m/usr/local/lib/python3.10/site-packages/urllib3/connectionpool.py:703\u001b[0m, in \u001b[0;36mHTTPConnectionPool.urlopen\u001b[0;34m(self, method, url, body, headers, retries, redirect, assert_same_host, timeout, pool_timeout, release_conn, chunked, body_pos, **response_kw)\u001b[0m\n\u001b[1;32m    700\u001b[0m     \u001b[39mself\u001b[39m\u001b[39m.\u001b[39m_prepare_proxy(conn)\n\u001b[1;32m    702\u001b[0m \u001b[39m# Make the request on the httplib connection object.\u001b[39;00m\n\u001b[0;32m--> 703\u001b[0m httplib_response \u001b[39m=\u001b[39m \u001b[39mself\u001b[39;49m\u001b[39m.\u001b[39;49m_make_request(\n\u001b[1;32m    704\u001b[0m     conn,\n\u001b[1;32m    705\u001b[0m     method,\n\u001b[1;32m    706\u001b[0m     url,\n\u001b[1;32m    707\u001b[0m     timeout\u001b[39m=\u001b[39;49mtimeout_obj,\n\u001b[1;32m    708\u001b[0m     body\u001b[39m=\u001b[39;49mbody,\n\u001b[1;32m    709\u001b[0m     headers\u001b[39m=\u001b[39;49mheaders,\n\u001b[1;32m    710\u001b[0m     chunked\u001b[39m=\u001b[39;49mchunked,\n\u001b[1;32m    711\u001b[0m )\n\u001b[1;32m    713\u001b[0m \u001b[39m# If we're going to release the connection in ``finally:``, then\u001b[39;00m\n\u001b[1;32m    714\u001b[0m \u001b[39m# the response doesn't need to know about the connection. Otherwise\u001b[39;00m\n\u001b[1;32m    715\u001b[0m \u001b[39m# it will also try to release it and we'll have a double-release\u001b[39;00m\n\u001b[1;32m    716\u001b[0m \u001b[39m# mess.\u001b[39;00m\n\u001b[1;32m    717\u001b[0m response_conn \u001b[39m=\u001b[39m conn \u001b[39mif\u001b[39;00m \u001b[39mnot\u001b[39;00m release_conn \u001b[39melse\u001b[39;00m \u001b[39mNone\u001b[39;00m\n",
      "File \u001b[0;32m/usr/local/lib/python3.10/site-packages/urllib3/connectionpool.py:449\u001b[0m, in \u001b[0;36mHTTPConnectionPool._make_request\u001b[0;34m(self, conn, method, url, timeout, chunked, **httplib_request_kw)\u001b[0m\n\u001b[1;32m    444\u001b[0m             httplib_response \u001b[39m=\u001b[39m conn\u001b[39m.\u001b[39mgetresponse()\n\u001b[1;32m    445\u001b[0m         \u001b[39mexcept\u001b[39;00m \u001b[39mBaseException\u001b[39;00m \u001b[39mas\u001b[39;00m e:\n\u001b[1;32m    446\u001b[0m             \u001b[39m# Remove the TypeError from the exception chain in\u001b[39;00m\n\u001b[1;32m    447\u001b[0m             \u001b[39m# Python 3 (including for exceptions like SystemExit).\u001b[39;00m\n\u001b[1;32m    448\u001b[0m             \u001b[39m# Otherwise it looks like a bug in the code.\u001b[39;00m\n\u001b[0;32m--> 449\u001b[0m             six\u001b[39m.\u001b[39;49mraise_from(e, \u001b[39mNone\u001b[39;49;00m)\n\u001b[1;32m    450\u001b[0m \u001b[39mexcept\u001b[39;00m (SocketTimeout, BaseSSLError, SocketError) \u001b[39mas\u001b[39;00m e:\n\u001b[1;32m    451\u001b[0m     \u001b[39mself\u001b[39m\u001b[39m.\u001b[39m_raise_timeout(err\u001b[39m=\u001b[39me, url\u001b[39m=\u001b[39murl, timeout_value\u001b[39m=\u001b[39mread_timeout)\n",
      "File \u001b[0;32m<string>:3\u001b[0m, in \u001b[0;36mraise_from\u001b[0;34m(value, from_value)\u001b[0m\n",
      "File \u001b[0;32m/usr/local/lib/python3.10/site-packages/urllib3/connectionpool.py:444\u001b[0m, in \u001b[0;36mHTTPConnectionPool._make_request\u001b[0;34m(self, conn, method, url, timeout, chunked, **httplib_request_kw)\u001b[0m\n\u001b[1;32m    441\u001b[0m \u001b[39mexcept\u001b[39;00m \u001b[39mTypeError\u001b[39;00m:\n\u001b[1;32m    442\u001b[0m     \u001b[39m# Python 3\u001b[39;00m\n\u001b[1;32m    443\u001b[0m     \u001b[39mtry\u001b[39;00m:\n\u001b[0;32m--> 444\u001b[0m         httplib_response \u001b[39m=\u001b[39m conn\u001b[39m.\u001b[39;49mgetresponse()\n\u001b[1;32m    445\u001b[0m     \u001b[39mexcept\u001b[39;00m \u001b[39mBaseException\u001b[39;00m \u001b[39mas\u001b[39;00m e:\n\u001b[1;32m    446\u001b[0m         \u001b[39m# Remove the TypeError from the exception chain in\u001b[39;00m\n\u001b[1;32m    447\u001b[0m         \u001b[39m# Python 3 (including for exceptions like SystemExit).\u001b[39;00m\n\u001b[1;32m    448\u001b[0m         \u001b[39m# Otherwise it looks like a bug in the code.\u001b[39;00m\n\u001b[1;32m    449\u001b[0m         six\u001b[39m.\u001b[39mraise_from(e, \u001b[39mNone\u001b[39;00m)\n",
      "File \u001b[0;32m/usr/local/Cellar/python@3.10/3.10.8/Frameworks/Python.framework/Versions/3.10/lib/python3.10/http/client.py:1374\u001b[0m, in \u001b[0;36mHTTPConnection.getresponse\u001b[0;34m(self)\u001b[0m\n\u001b[1;32m   1372\u001b[0m \u001b[39mtry\u001b[39;00m:\n\u001b[1;32m   1373\u001b[0m     \u001b[39mtry\u001b[39;00m:\n\u001b[0;32m-> 1374\u001b[0m         response\u001b[39m.\u001b[39;49mbegin()\n\u001b[1;32m   1375\u001b[0m     \u001b[39mexcept\u001b[39;00m \u001b[39mConnectionError\u001b[39;00m:\n\u001b[1;32m   1376\u001b[0m         \u001b[39mself\u001b[39m\u001b[39m.\u001b[39mclose()\n",
      "File \u001b[0;32m/usr/local/Cellar/python@3.10/3.10.8/Frameworks/Python.framework/Versions/3.10/lib/python3.10/http/client.py:318\u001b[0m, in \u001b[0;36mHTTPResponse.begin\u001b[0;34m(self)\u001b[0m\n\u001b[1;32m    316\u001b[0m \u001b[39m# read until we get a non-100 response\u001b[39;00m\n\u001b[1;32m    317\u001b[0m \u001b[39mwhile\u001b[39;00m \u001b[39mTrue\u001b[39;00m:\n\u001b[0;32m--> 318\u001b[0m     version, status, reason \u001b[39m=\u001b[39m \u001b[39mself\u001b[39;49m\u001b[39m.\u001b[39;49m_read_status()\n\u001b[1;32m    319\u001b[0m     \u001b[39mif\u001b[39;00m status \u001b[39m!=\u001b[39m CONTINUE:\n\u001b[1;32m    320\u001b[0m         \u001b[39mbreak\u001b[39;00m\n",
      "File \u001b[0;32m/usr/local/Cellar/python@3.10/3.10.8/Frameworks/Python.framework/Versions/3.10/lib/python3.10/http/client.py:279\u001b[0m, in \u001b[0;36mHTTPResponse._read_status\u001b[0;34m(self)\u001b[0m\n\u001b[1;32m    278\u001b[0m \u001b[39mdef\u001b[39;00m \u001b[39m_read_status\u001b[39m(\u001b[39mself\u001b[39m):\n\u001b[0;32m--> 279\u001b[0m     line \u001b[39m=\u001b[39m \u001b[39mstr\u001b[39m(\u001b[39mself\u001b[39;49m\u001b[39m.\u001b[39;49mfp\u001b[39m.\u001b[39;49mreadline(_MAXLINE \u001b[39m+\u001b[39;49m \u001b[39m1\u001b[39;49m), \u001b[39m\"\u001b[39m\u001b[39miso-8859-1\u001b[39m\u001b[39m\"\u001b[39m)\n\u001b[1;32m    280\u001b[0m     \u001b[39mif\u001b[39;00m \u001b[39mlen\u001b[39m(line) \u001b[39m>\u001b[39m _MAXLINE:\n\u001b[1;32m    281\u001b[0m         \u001b[39mraise\u001b[39;00m LineTooLong(\u001b[39m\"\u001b[39m\u001b[39mstatus line\u001b[39m\u001b[39m\"\u001b[39m)\n",
      "File \u001b[0;32m/usr/local/Cellar/python@3.10/3.10.8/Frameworks/Python.framework/Versions/3.10/lib/python3.10/socket.py:705\u001b[0m, in \u001b[0;36mSocketIO.readinto\u001b[0;34m(self, b)\u001b[0m\n\u001b[1;32m    703\u001b[0m \u001b[39mwhile\u001b[39;00m \u001b[39mTrue\u001b[39;00m:\n\u001b[1;32m    704\u001b[0m     \u001b[39mtry\u001b[39;00m:\n\u001b[0;32m--> 705\u001b[0m         \u001b[39mreturn\u001b[39;00m \u001b[39mself\u001b[39;49m\u001b[39m.\u001b[39;49m_sock\u001b[39m.\u001b[39;49mrecv_into(b)\n\u001b[1;32m    706\u001b[0m     \u001b[39mexcept\u001b[39;00m timeout:\n\u001b[1;32m    707\u001b[0m         \u001b[39mself\u001b[39m\u001b[39m.\u001b[39m_timeout_occurred \u001b[39m=\u001b[39m \u001b[39mTrue\u001b[39;00m\n",
      "\u001b[0;31mKeyboardInterrupt\u001b[0m: "
     ]
    }
   ],
   "source": [
    "if __name__ == '__main__':\n",
    "    from loguru import logger\n",
    "    import json \n",
    "    logger.debug('Start foscam')\n",
    "    foscam = FoscamScraper(logger)\n",
    "    metadata = foscam.scrape_metadata()\n",
    "    \n",
    "    # save metadata to json file\n",
    "    with open(\"scraped_metadata/firmware_data_foscam.json\", \"w\") as firmware_file:\n",
    "        json.dump(metadata, firmware_file)\n",
    "\n",
    "    foscam.logger.debug('Finished foscam')\n"
   ]
  },
  {
   "cell_type": "code",
   "execution_count": null,
   "metadata": {},
   "outputs": [],
   "source": []
  }
 ],
 "metadata": {
  "kernelspec": {
   "display_name": "Python 3.10.8 64-bit",
   "language": "python",
   "name": "python3"
  },
  "language_info": {
   "codemirror_mode": {
    "name": "ipython",
    "version": 3
   },
   "file_extension": ".py",
   "mimetype": "text/x-python",
   "name": "python",
   "nbconvert_exporter": "python",
   "pygments_lexer": "ipython3",
   "version": "3.10.8"
  },
  "orig_nbformat": 4,
  "vscode": {
   "interpreter": {
    "hash": "aee8b7b246df8f9039afb4144a1f6fd8d2ca17a180786b69acc140d282b71a49"
   }
  }
 },
 "nbformat": 4,
 "nbformat_minor": 2
}
